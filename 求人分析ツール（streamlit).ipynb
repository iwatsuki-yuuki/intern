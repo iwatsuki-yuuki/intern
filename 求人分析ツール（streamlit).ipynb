{
  "nbformat": 4,
  "nbformat_minor": 0,
  "metadata": {
    "colab": {
      "provenance": [],
      "authorship_tag": "ABX9TyNoHplUhSfcbFeGLgNeS+sD",
      "include_colab_link": true
    },
    "kernelspec": {
      "name": "python3",
      "display_name": "Python 3"
    },
    "language_info": {
      "name": "python"
    }
  },
  "cells": [
    {
      "cell_type": "markdown",
      "metadata": {
        "id": "view-in-github",
        "colab_type": "text"
      },
      "source": [
        "<a href=\"https://colab.research.google.com/github/iwatsuki-yuuki/intern/blob/main/%E6%B1%82%E4%BA%BA%E5%88%86%E6%9E%90%E3%83%84%E3%83%BC%E3%83%AB%EF%BC%88streamlit).ipynb\" target=\"_parent\"><img src=\"https://colab.research.google.com/assets/colab-badge.svg\" alt=\"Open In Colab\"/></a>"
      ]
    },
    {
      "cell_type": "code",
      "execution_count": 4,
      "metadata": {
        "colab": {
          "base_uri": "https://localhost:8080/"
        },
        "id": "3D87X6_gu0vy",
        "outputId": "1fc685e6-6d51-405d-e133-8eb11a56747a"
      },
      "outputs": [
        {
          "output_type": "stream",
          "name": "stdout",
          "text": [
            "Requirement already satisfied: japanize_matplotlib in /usr/local/lib/python3.11/dist-packages (1.1.3)\n",
            "Requirement already satisfied: matplotlib in /usr/local/lib/python3.11/dist-packages (from japanize_matplotlib) (3.10.0)\n",
            "Requirement already satisfied: contourpy>=1.0.1 in /usr/local/lib/python3.11/dist-packages (from matplotlib->japanize_matplotlib) (1.3.2)\n",
            "Requirement already satisfied: cycler>=0.10 in /usr/local/lib/python3.11/dist-packages (from matplotlib->japanize_matplotlib) (0.12.1)\n",
            "Requirement already satisfied: fonttools>=4.22.0 in /usr/local/lib/python3.11/dist-packages (from matplotlib->japanize_matplotlib) (4.58.1)\n",
            "Requirement already satisfied: kiwisolver>=1.3.1 in /usr/local/lib/python3.11/dist-packages (from matplotlib->japanize_matplotlib) (1.4.8)\n",
            "Requirement already satisfied: numpy>=1.23 in /usr/local/lib/python3.11/dist-packages (from matplotlib->japanize_matplotlib) (2.0.2)\n",
            "Requirement already satisfied: packaging>=20.0 in /usr/local/lib/python3.11/dist-packages (from matplotlib->japanize_matplotlib) (24.2)\n",
            "Requirement already satisfied: pillow>=8 in /usr/local/lib/python3.11/dist-packages (from matplotlib->japanize_matplotlib) (11.2.1)\n",
            "Requirement already satisfied: pyparsing>=2.3.1 in /usr/local/lib/python3.11/dist-packages (from matplotlib->japanize_matplotlib) (3.2.3)\n",
            "Requirement already satisfied: python-dateutil>=2.7 in /usr/local/lib/python3.11/dist-packages (from matplotlib->japanize_matplotlib) (2.9.0.post0)\n",
            "Requirement already satisfied: six>=1.5 in /usr/local/lib/python3.11/dist-packages (from python-dateutil>=2.7->matplotlib->japanize_matplotlib) (1.17.0)\n"
          ]
        }
      ],
      "source": [
        "!pip install japanize_matplotlib"
      ]
    },
    {
      "cell_type": "code",
      "source": [
        "# authtokenを設定（YOUR_AUTHTOKEN_HERE をあなたのトークンに置き換えて）\n",
        "!ngrok config add-authtoken 2vhrHUiED6rLNdSLa0JpI1mu0r6_7KYfjfEfDw6dmXE5bpUPn"
      ],
      "metadata": {
        "colab": {
          "base_uri": "https://localhost:8080/"
        },
        "id": "yTmEQda9wRk8",
        "outputId": "a589f1e7-8b39-40cc-d60b-95bc13c0bd5d"
      },
      "execution_count": 5,
      "outputs": [
        {
          "output_type": "stream",
          "name": "stdout",
          "text": [
            "Authtoken saved to configuration file: /root/.config/ngrok/ngrok.yml\n"
          ]
        }
      ]
    },
    {
      "cell_type": "code",
      "source": [
        "# 必要なライブラリをインストール\n",
        "!pip install streamlit pyngrok --quiet\n",
        "\n",
        "# GitHubからクローン（ご自身のリポジトリURLに変更してください）\n",
        "!git clone https://github.com/iwatsuki-yuuki/job-analysis-app\n",
        "%cd job-analysis-app\n",
        "\n",
        "# ngrokで公開URL作成\n",
        "from pyngrok import ngrok\n",
        "import threading\n",
        "\n",
        "port = 8501\n",
        "public_url = ngrok.connect(port)\n",
        "print(f\"👇 アプリはこちらからアクセスできます：\\n{public_url}\")\n",
        "\n",
        "# Streamlitを別スレッドで実行\n",
        "def run():\n",
        "    !streamlit run app.py --server.port 8501 --server.headless true\n",
        "\n",
        "thread = threading.Thread(target=run)\n",
        "thread.start()"
      ],
      "metadata": {
        "colab": {
          "base_uri": "https://localhost:8080/"
        },
        "id": "NDNh7twhw_FJ",
        "outputId": "19d62707-b147-4f8d-ab52-ad3d8371c7e7"
      },
      "execution_count": 6,
      "outputs": [
        {
          "output_type": "stream",
          "name": "stdout",
          "text": [
            "fatal: destination path 'job-analysis-app' already exists and is not an empty directory.\n",
            "/content/job-analysis-app/job-analysis-app\n",
            "👇 アプリはこちらからアクセスできます：\n",
            "NgrokTunnel: \"https://bd41-34-34-113-161.ngrok-free.app\" -> \"http://localhost:8501\"\n"
          ]
        }
      ]
    }
  ]
}